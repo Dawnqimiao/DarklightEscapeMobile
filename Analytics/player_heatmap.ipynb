{
 "cells": [
  {
   "cell_type": "markdown",
   "metadata": {},
   "source": [
    "# Player Heatmap\n",
    "\n",
    "Tracks player location to give insight into how much time they are spending in certain areas of the map. One use case: shows where players usually get stuck."
   ]
  },
  {
   "cell_type": "code",
   "execution_count": null,
   "metadata": {
    "vscode": {
     "languageId": "plaintext"
    }
   },
   "outputs": [],
   "source": [
    "# From firestore service account creation tutorial\n",
    "\n",
    "import firebase_admin\n",
    "from firebase_admin import credentials\n",
    "\n",
    "cred = credentials.Certificate(\"../darklight-escape-firebase-adminsdk-fbsvc-1a69ac5240.json\")\n",
    "firebase_admin.initialize_app(cred)"
   ]
  },
  {
   "cell_type": "code",
   "execution_count": null,
   "metadata": {
    "vscode": {
     "languageId": "plaintext"
    }
   },
   "outputs": [],
   "source": [
    "db = firestore.client()\n",
    "\n",
    "# Stream X and Y coords from collection\n",
    "heatmap_data = db.collection(\"playerheatmap\").stream()\n",
    "x_coords = []\n",
    "y_coords = []\n",
    "for doc in heatmap_data:\n",
    "    x_coords.append(doc.to_dict()[\"x\"])\n",
    "    y_coords.append(doc.to_dict()[\"y\"])\n",
    "\n",
    "# Plot heatmap data\n",
    "plt.figure(figsize=(10, 6))\n",
    "plt.scatter(x_coords, y_coords, alpha=0.5)\n",
    "plt.xlabel(\"X Coordinate\")\n",
    "plt.ylabel(\"Y Coordinate\")\n",
    "plt.title(\"Player Heatmap\")\n",
    "plt.grid(True)\n",
    "plt.show()"
   ]
  }
 ],
 "metadata": {
  "language_info": {
   "name": "python"
  }
 },
 "nbformat": 4,
 "nbformat_minor": 2
}
